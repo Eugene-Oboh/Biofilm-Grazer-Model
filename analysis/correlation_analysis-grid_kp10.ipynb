{
 "cells": [
  {
   "cell_type": "code",
   "execution_count": null,
   "id": "6a874fd0",
   "metadata": {},
   "outputs": [],
   "source": []
  },
  {
   "cell_type": "code",
   "execution_count": 54,
   "id": "e263d0e1",
   "metadata": {},
   "outputs": [
    {
     "data": {
      "image/png": "[encoded data removed]",
      "text/plain": [
       "<Figure size 432x288 with 1 Axes>"
      ]
     },
     "metadata": {
      "needs_background": "light"
     },
     "output_type": "display_data"
    }
   ],
   "source": [
    "# Daily correlation grid\n",
    "import matplotlib.pyplot as plt\n",
    "import xarray as xr\n",
    "import numpy\n",
    "from pathlib import Path\n",
    "\n",
    "nutrient =[2,5,10,15,35]\n",
    "grazer = [0,1,3,6,10,20,25,30,35]\n",
    "for j in grazer:\n",
    "    for k in nutrient:\n",
    "        data = Path(f\"data/model_runs/scenario_kp10/scenario/p{k}-g{j}/biomass_data.nc\")\n",
    "        varpar= data.parent/'Daily_correlation_matrix'\n",
    "        varpar.mkdir(exist_ok=True)\n",
    "        biomass_grids = xr.open_dataarray(data)\n",
    "\n",
    "\n",
    "        def autocorrelate(data):\n",
    "             ndata = data - numpy.mean(data)\n",
    "             acorr = numpy.correlate(ndata, ndata, 'full')[len(ndata)-1:]\n",
    "             return acorr / numpy.var(data) / len(ndata)\n",
    "\n",
    "        def corr_grid(biomass_g):\n",
    "    \n",
    "            X = biomass_g[\"X\"]\n",
    "            Y = biomass_g['Y']\n",
    "\n",
    "            outarray = xr.zeros_like(biomass_g)\n",
    "            for x in range(len(X)):\n",
    "                for y in range(len(Y)):\n",
    "                    tempp = biomass_g.data[:, y, x]\n",
    "                    acorr = autocorrelate(tempp)\n",
    "                    outarray[:, y, x] = acorr\n",
    "            return outarray\n",
    "\n",
    "        grid = corr_grid(biomass_grids)\n",
    "\n",
    "\n",
    "        import matplotlib.pyplot as plt\n",
    "        time= list(range(57))\n",
    "        for i in time:\n",
    "            outpath = varpar/f'day_{i:02d}.jpg'\n",
    "            plt.imshow(grid[48*i], vmin=-1, vmax=1, cmap='RdBu')\n",
    "            plt.title(f'P={k}, G={j}_(day {i})')\n",
    "            #plt.colorbar()\n",
    "            plt.savefig(outpath)\n",
    "\n"
   ]
  },
  {
   "cell_type": "code",
   "execution_count": null,
   "id": "1b0e4f30",
   "metadata": {},
   "outputs": [],
   "source": []
  },
  {
   "cell_type": "code",
   "execution_count": null,
   "id": "1fc62ec6",
   "metadata": {},
   "outputs": [],
   "source": []
  },
  {
   "cell_type": "code",
   "execution_count": null,
   "id": "e1a75fe2",
   "metadata": {},
   "outputs": [],
   "source": []
  }
 ],
 "metadata": {
  "kernelspec": {
   "display_name": "Python 3 (ipykernel)",
   "language": "python",
   "name": "python3"
  },
  "language_info": {
   "codemirror_mode": {
    "name": "ipython",
    "version": 3
   },
   "file_extension": ".py",
   "mimetype": "text/x-python",
   "name": "python",
   "nbconvert_exporter": "python",
   "pygments_lexer": "ipython3",
   "version": "3.10.4"
  }
 },
 "nbformat": 4,
 "nbformat_minor": 5
}
